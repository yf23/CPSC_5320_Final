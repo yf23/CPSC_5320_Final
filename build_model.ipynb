{
 "cells": [
  {
   "cell_type": "code",
   "execution_count": 1,
   "metadata": {},
   "outputs": [],
   "source": [
    "import pandas as pd\n",
    "import numpy as np"
   ]
  },
  {
   "cell_type": "code",
   "execution_count": 2,
   "metadata": {},
   "outputs": [],
   "source": [
    "df_raw = pd.read_csv('LLCP2018.csv.gz')"
   ]
  },
  {
   "cell_type": "code",
   "execution_count": 3,
   "metadata": {},
   "outputs": [],
   "source": [
    "# DIABETES and CVD\n",
    "df_raw['DIABETES'] = df_raw['DIABETE3'].replace({2: 1, 3: 0, 4: 0, 7: np.nan, 9: np.nan})\n",
    "df_raw['DIABETES'].value_counts(dropna=False)\n",
    "df_raw['CVD'] = ((df_raw['CVDINFR4'] == 1) | (df_raw['CVDCRHD4'] == 1) | (df_raw['CVDSTRK3'] == 1)).astype(int)"
   ]
  },
  {
   "cell_type": "code",
   "execution_count": 4,
   "metadata": {},
   "outputs": [],
   "source": [
    "df = df_raw.loc[:, ['DIABETES', 'CVD']]"
   ]
  },
  {
   "cell_type": "code",
   "execution_count": 5,
   "metadata": {},
   "outputs": [],
   "source": [
    "df['POPULATION'] = df_raw['_LLCPWT']"
   ]
  },
  {
   "cell_type": "code",
   "execution_count": 6,
   "metadata": {},
   "outputs": [],
   "source": [
    "df_prev = df.dropna()\n",
    "diabetes_prevalence_overall = df_prev.loc[df_prev.DIABETES == 1]['POPULATION'].sum() / df_prev['POPULATION'].sum()\n",
    "cvd_prevalence_overall = df_prev.loc[df_prev.CVD == 1]['POPULATION'].sum() / df_prev['POPULATION'].sum()"
   ]
  },
  {
   "cell_type": "code",
   "execution_count": 7,
   "metadata": {},
   "outputs": [
    {
     "data": {
      "text/plain": [
       "4.0    94323\n",
       "3.0    77220\n",
       "5.0    69598\n",
       "2.0    54429\n",
       "1.0    50387\n",
       "0.0    48291\n",
       "6.0    43188\n",
       "Name: AGE, dtype: int64"
      ]
     },
     "execution_count": 7,
     "metadata": {},
     "output_type": "execute_result"
    }
   ],
   "source": [
    "# AGE\n",
    "# 0: 20-30 (25)\n",
    "# 1: 30-40 (35)\n",
    "# 2: 40-50 (45)\n",
    "# 3: 50-60 (55)\n",
    "# 4: 60-70 (65)\n",
    "# 5: 70-80 (75)\n",
    "# 6: 80-90 (85)\n",
    "df['AGE'] = (df_raw['_AGEG5YR'] - 1) // 2\n",
    "df['AGE'].value_counts(dropna=False)"
   ]
  },
  {
   "cell_type": "code",
   "execution_count": 8,
   "metadata": {},
   "outputs": [
    {
     "data": {
      "text/plain": [
       "2.0    143878\n",
       "3.0    127998\n",
       "1.0    123522\n",
       "NaN     35262\n",
       "0.0      6776\n",
       "Name: BMI, dtype: int64"
      ]
     },
     "execution_count": 8,
     "metadata": {},
     "output_type": "execute_result"
    }
   ],
   "source": [
    "# BMI\n",
    "# 0: Underweight (< 18.5)\n",
    "# 1: Normal (18.5 <= BMI < 25)\n",
    "# 2: Overweight (25 <= BMI < 30)\n",
    "# 3: Obese (>= 30)\n",
    "df['BMI'] = df_raw['_BMI5CAT'] - 1\n",
    "df['BMI'].value_counts(dropna=False)"
   ]
  },
  {
   "cell_type": "code",
   "execution_count": 9,
   "metadata": {},
   "outputs": [
    {
     "data": {
      "text/plain": [
       "1.0    273866\n",
       "0.0    142309\n",
       "2.0     15924\n",
       "NaN      5337\n",
       "Name: SLEEP, dtype: int64"
      ]
     },
     "execution_count": 9,
     "metadata": {},
     "output_type": "execute_result"
    }
   ],
   "source": [
    "# SLEEP: Sleep Time\n",
    "# 0: <7 hr\n",
    "# 1: 7-9 hr\n",
    "# 2: > 9 hr\n",
    "def bin_sleep(x):\n",
    "    if pd.isna(x):\n",
    "        return np.nan\n",
    "    elif x < 7:\n",
    "        return 0\n",
    "    elif x > 9:\n",
    "        return 2\n",
    "    else:\n",
    "        return 1\n",
    "\n",
    "df['SLEEP'] = df_raw['SLEPTIM1'].replace({77: np.nan, 99: np.nan}).apply(bin_sleep)\n",
    "df['SLEEP'].value_counts(dropna=False)"
   ]
  },
  {
   "cell_type": "code",
   "execution_count": 10,
   "metadata": {},
   "outputs": [
    {
     "data": {
      "text/plain": [
       "0.0    359348\n",
       "1.0     61272\n",
       "NaN     16816\n",
       "Name: SMOKE, dtype: int64"
      ]
     },
     "execution_count": 10,
     "metadata": {},
     "output_type": "execute_result"
    }
   ],
   "source": [
    "# Smoke\n",
    "# 0: No\n",
    "# 1: Yes\n",
    "df['SMOKE'] = df_raw['_RFSMOK3'].replace({9: np.nan, 1: 0, 2: 1})\n",
    "df['SMOKE'].value_counts(dropna=False)"
   ]
  },
  {
   "cell_type": "code",
   "execution_count": 11,
   "metadata": {},
   "outputs": [
    {
     "data": {
      "text/plain": [
       "389851"
      ]
     },
     "execution_count": 11,
     "metadata": {},
     "output_type": "execute_result"
    }
   ],
   "source": [
    "df = df.dropna()\n",
    "len(df)"
   ]
  },
  {
   "cell_type": "code",
   "execution_count": 12,
   "metadata": {},
   "outputs": [],
   "source": [
    "def get_prevalence(df, age, bmi, sleep, smoke):\n",
    "    sub_df = df.loc[\n",
    "        (df.AGE == age) &\n",
    "        (df.BMI == bmi) &\n",
    "        (df.SLEEP == sleep) &\n",
    "        (df.SMOKE == smoke)\n",
    "    ]\n",
    "    \n",
    "    diabetes_count = len(sub_df.loc[sub_df.DIABETES == 1])\n",
    "    cvd_count = len(sub_df.loc[sub_df.CVD == 1])\n",
    "    \n",
    "    if diabetes_count <= 10:\n",
    "        diabetes_prevalence = np.nan\n",
    "    else:\n",
    "        diabetes_prevalence = sub_df.loc[sub_df.DIABETES == 1]['POPULATION'].sum() / sub_df['POPULATION'].sum()\n",
    "    \n",
    "    if cvd_count <= 10:\n",
    "        cvd_prevalence = np.nan\n",
    "    else:\n",
    "        cvd_prevalence = sub_df.loc[sub_df.CVD == 1]['POPULATION'].sum() / sub_df['POPULATION'].sum()\n",
    "        \n",
    "    return diabetes_prevalence, cvd_prevalence"
   ]
  },
  {
   "cell_type": "code",
   "execution_count": 13,
   "metadata": {},
   "outputs": [],
   "source": [
    "result = []\n",
    "for age in range(7):\n",
    "    for bmi in range(4):\n",
    "        for sleep in range(3):\n",
    "                for smoke in range(2):\n",
    "                    diabetes, cvd = get_prevalence(df, age, bmi, sleep, smoke)\n",
    "                    result.append((age, bmi, sleep, smoke, diabetes, cvd))\n",
    "result_df = pd.DataFrame(\n",
    "    result, \n",
    "    columns=['AGE', 'BMI', 'SLEEP', 'SMOKE', 'DIABETES_PREVALENCE', 'CVD_PREVALENCE']\n",
    ")"
   ]
  },
  {
   "cell_type": "code",
   "execution_count": 14,
   "metadata": {},
   "outputs": [
    {
     "data": {
      "text/html": [
       "<div>\n",
       "<style scoped>\n",
       "    .dataframe tbody tr th:only-of-type {\n",
       "        vertical-align: middle;\n",
       "    }\n",
       "\n",
       "    .dataframe tbody tr th {\n",
       "        vertical-align: top;\n",
       "    }\n",
       "\n",
       "    .dataframe thead th {\n",
       "        text-align: right;\n",
       "    }\n",
       "</style>\n",
       "<table border=\"1\" class=\"dataframe\">\n",
       "  <thead>\n",
       "    <tr style=\"text-align: right;\">\n",
       "      <th></th>\n",
       "      <th>AGE</th>\n",
       "      <th>BMI</th>\n",
       "      <th>SLEEP</th>\n",
       "      <th>SMOKE</th>\n",
       "      <th>DIABETES_PREVALENCE</th>\n",
       "      <th>CVD_PREVALENCE</th>\n",
       "    </tr>\n",
       "  </thead>\n",
       "  <tbody>\n",
       "    <tr>\n",
       "      <td>0</td>\n",
       "      <td>0</td>\n",
       "      <td>0</td>\n",
       "      <td>0</td>\n",
       "      <td>0</td>\n",
       "      <td>NaN</td>\n",
       "      <td>NaN</td>\n",
       "    </tr>\n",
       "    <tr>\n",
       "      <td>1</td>\n",
       "      <td>0</td>\n",
       "      <td>0</td>\n",
       "      <td>0</td>\n",
       "      <td>1</td>\n",
       "      <td>NaN</td>\n",
       "      <td>NaN</td>\n",
       "    </tr>\n",
       "    <tr>\n",
       "      <td>2</td>\n",
       "      <td>0</td>\n",
       "      <td>0</td>\n",
       "      <td>1</td>\n",
       "      <td>0</td>\n",
       "      <td>0.009777</td>\n",
       "      <td>NaN</td>\n",
       "    </tr>\n",
       "    <tr>\n",
       "      <td>3</td>\n",
       "      <td>0</td>\n",
       "      <td>0</td>\n",
       "      <td>1</td>\n",
       "      <td>1</td>\n",
       "      <td>NaN</td>\n",
       "      <td>NaN</td>\n",
       "    </tr>\n",
       "    <tr>\n",
       "      <td>4</td>\n",
       "      <td>0</td>\n",
       "      <td>0</td>\n",
       "      <td>2</td>\n",
       "      <td>0</td>\n",
       "      <td>NaN</td>\n",
       "      <td>NaN</td>\n",
       "    </tr>\n",
       "    <tr>\n",
       "      <td>...</td>\n",
       "      <td>...</td>\n",
       "      <td>...</td>\n",
       "      <td>...</td>\n",
       "      <td>...</td>\n",
       "      <td>...</td>\n",
       "      <td>...</td>\n",
       "    </tr>\n",
       "    <tr>\n",
       "      <td>163</td>\n",
       "      <td>6</td>\n",
       "      <td>3</td>\n",
       "      <td>0</td>\n",
       "      <td>1</td>\n",
       "      <td>0.256538</td>\n",
       "      <td>0.274313</td>\n",
       "    </tr>\n",
       "    <tr>\n",
       "      <td>164</td>\n",
       "      <td>6</td>\n",
       "      <td>3</td>\n",
       "      <td>1</td>\n",
       "      <td>0</td>\n",
       "      <td>0.302242</td>\n",
       "      <td>0.296064</td>\n",
       "    </tr>\n",
       "    <tr>\n",
       "      <td>165</td>\n",
       "      <td>6</td>\n",
       "      <td>3</td>\n",
       "      <td>1</td>\n",
       "      <td>1</td>\n",
       "      <td>0.158360</td>\n",
       "      <td>0.275670</td>\n",
       "    </tr>\n",
       "    <tr>\n",
       "      <td>166</td>\n",
       "      <td>6</td>\n",
       "      <td>3</td>\n",
       "      <td>2</td>\n",
       "      <td>0</td>\n",
       "      <td>0.376692</td>\n",
       "      <td>0.302538</td>\n",
       "    </tr>\n",
       "    <tr>\n",
       "      <td>167</td>\n",
       "      <td>6</td>\n",
       "      <td>3</td>\n",
       "      <td>2</td>\n",
       "      <td>1</td>\n",
       "      <td>NaN</td>\n",
       "      <td>NaN</td>\n",
       "    </tr>\n",
       "  </tbody>\n",
       "</table>\n",
       "<p>168 rows × 6 columns</p>\n",
       "</div>"
      ],
      "text/plain": [
       "     AGE  BMI  SLEEP  SMOKE  DIABETES_PREVALENCE  CVD_PREVALENCE\n",
       "0      0    0      0      0                  NaN             NaN\n",
       "1      0    0      0      1                  NaN             NaN\n",
       "2      0    0      1      0             0.009777             NaN\n",
       "3      0    0      1      1                  NaN             NaN\n",
       "4      0    0      2      0                  NaN             NaN\n",
       "..   ...  ...    ...    ...                  ...             ...\n",
       "163    6    3      0      1             0.256538        0.274313\n",
       "164    6    3      1      0             0.302242        0.296064\n",
       "165    6    3      1      1             0.158360        0.275670\n",
       "166    6    3      2      0             0.376692        0.302538\n",
       "167    6    3      2      1                  NaN             NaN\n",
       "\n",
       "[168 rows x 6 columns]"
      ]
     },
     "execution_count": 14,
     "metadata": {},
     "output_type": "execute_result"
    }
   ],
   "source": [
    "result_df"
   ]
  },
  {
   "cell_type": "code",
   "execution_count": 15,
   "metadata": {},
   "outputs": [],
   "source": [
    "from sklearn.ensemble import RandomForestRegressor"
   ]
  },
  {
   "cell_type": "code",
   "execution_count": 16,
   "metadata": {},
   "outputs": [
    {
     "data": {
      "text/plain": [
       "0.8327395037842262"
      ]
     },
     "execution_count": 16,
     "metadata": {},
     "output_type": "execute_result"
    }
   ],
   "source": [
    "diabetes_train_df = result_df[['AGE', 'BMI', 'SLEEP', 'SMOKE', 'DIABETES_PREVALENCE']].dropna()\n",
    "X_diabs = diabetes_train_df[['AGE', 'BMI', 'SLEEP', 'SMOKE']]\n",
    "y_diabs = diabetes_train_df['DIABETES_PREVALENCE']\n",
    "model_diabs = RandomForestRegressor(n_estimators=100, max_depth=3)\n",
    "model_diabs.fit(X_diabs, y_diabs)\n",
    "model_diabs.score(X_diabs, y_diabs)"
   ]
  },
  {
   "cell_type": "code",
   "execution_count": 17,
   "metadata": {},
   "outputs": [
    {
     "data": {
      "text/plain": [
       "0.7933990285260049"
      ]
     },
     "execution_count": 17,
     "metadata": {},
     "output_type": "execute_result"
    }
   ],
   "source": [
    "cvd_train_df = result_df[['AGE', 'BMI', 'SLEEP', 'SMOKE', 'CVD_PREVALENCE']].dropna()\n",
    "X_cvd = cvd_train_df[['AGE', 'BMI', 'SLEEP', 'SMOKE']]\n",
    "y_cvd = cvd_train_df['CVD_PREVALENCE']\n",
    "model_cvd = RandomForestRegressor(n_estimators=100, max_depth=3)\n",
    "model_cvd.fit(X_cvd, y_cvd)\n",
    "model_cvd.score(X_cvd, y_cvd)"
   ]
  },
  {
   "cell_type": "code",
   "execution_count": 18,
   "metadata": {},
   "outputs": [],
   "source": [
    "X_pred = result_df[['AGE', 'BMI', 'SLEEP', 'SMOKE']]\n",
    "result_df['DIABETES_PREVALENCE'] = model_diabs.predict(X_pred)\n",
    "result_df['CVD_PREVALENCE'] = model_cvd.predict(X_pred)"
   ]
  },
  {
   "cell_type": "code",
   "execution_count": 19,
   "metadata": {},
   "outputs": [],
   "source": [
    "diabetes_prevalence_overall = df.loc[df.DIABETES == 1]['POPULATION'].sum() / df['POPULATION'].sum()\n",
    "cvd_prevalence_overall = df.loc[df.CVD == 1]['POPULATION'].sum() / df['POPULATION'].sum()"
   ]
  },
  {
   "cell_type": "code",
   "execution_count": 20,
   "metadata": {},
   "outputs": [
    {
     "data": {
      "text/plain": [
       "0.12369516493324022"
      ]
     },
     "execution_count": 20,
     "metadata": {},
     "output_type": "execute_result"
    }
   ],
   "source": [
    "diabetes_prevalence_overall"
   ]
  },
  {
   "cell_type": "code",
   "execution_count": 21,
   "metadata": {},
   "outputs": [
    {
     "data": {
      "text/plain": [
       "0.09139971088876757"
      ]
     },
     "execution_count": 21,
     "metadata": {},
     "output_type": "execute_result"
    }
   ],
   "source": [
    "cvd_prevalence_overall"
   ]
  },
  {
   "cell_type": "code",
   "execution_count": 22,
   "metadata": {},
   "outputs": [],
   "source": [
    "result_df['DIABETES_RISK'] = result_df['DIABETES_PREVALENCE'] / diabetes_prevalence_overall\n",
    "result_df['CVD_RISK'] = result_df['CVD_PREVALENCE'] / cvd_prevalence_overall\n",
    "result_df['AGE'] = (result_df['AGE'] * 10) + 25"
   ]
  },
  {
   "cell_type": "code",
   "execution_count": 23,
   "metadata": {},
   "outputs": [],
   "source": [
    "result_df.to_csv('model.csv', index=False)"
   ]
  },
  {
   "cell_type": "code",
   "execution_count": null,
   "metadata": {},
   "outputs": [],
   "source": []
  }
 ],
 "metadata": {
  "kernelspec": {
   "display_name": "Python 3",
   "language": "python",
   "name": "python3"
  },
  "language_info": {
   "codemirror_mode": {
    "name": "ipython",
    "version": 3
   },
   "file_extension": ".py",
   "mimetype": "text/x-python",
   "name": "python",
   "nbconvert_exporter": "python",
   "pygments_lexer": "ipython3",
   "version": "3.7.4"
  }
 },
 "nbformat": 4,
 "nbformat_minor": 4
}
